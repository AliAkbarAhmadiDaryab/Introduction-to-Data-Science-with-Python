{
 "cells": [
  {
   "cell_type": "markdown",
   "metadata": {},
   "source": [
    "### Import necessary libraries/packages"
   ]
  },
  {
   "cell_type": "code",
   "execution_count": null,
   "metadata": {},
   "outputs": [],
   "source": [
    "# !pip install numpy\n",
    "# !pip install matplotlib\n",
    "# !pip install openpyxl\n",
    "# restart your kernel\n"
   ]
  },
  {
   "cell_type": "code",
   "execution_count": 1,
   "metadata": {},
   "outputs": [],
   "source": [
    "import matplotlib.pyplot as plt\n",
    "import pandas as pd\n",
    "# from datetime import datetime"
   ]
  },
  {
   "cell_type": "markdown",
   "metadata": {},
   "source": [
    "## Load Data"
   ]
  },
  {
   "cell_type": "code",
   "execution_count": 8,
   "metadata": {},
   "outputs": [],
   "source": [
    "data = pd.read_excel('data/afg-hfs-functionality-status-20_09_2021.xlsx', header=1)"
   ]
  },
  {
   "cell_type": "code",
   "execution_count": 9,
   "metadata": {},
   "outputs": [
    {
     "data": {
      "text/html": [
       "<div>\n",
       "<style scoped>\n",
       "    .dataframe tbody tr th:only-of-type {\n",
       "        vertical-align: middle;\n",
       "    }\n",
       "\n",
       "    .dataframe tbody tr th {\n",
       "        vertical-align: top;\n",
       "    }\n",
       "\n",
       "    .dataframe thead th {\n",
       "        text-align: right;\n",
       "    }\n",
       "</style>\n",
       "<table border=\"1\" class=\"dataframe\">\n",
       "  <thead>\n",
       "    <tr style=\"text-align: right;\">\n",
       "      <th></th>\n",
       "      <th>SN</th>\n",
       "      <th>Regions</th>\n",
       "      <th>Province</th>\n",
       "      <th>Total # of Sehatmandi HFs</th>\n",
       "      <th>Full Functional HFs</th>\n",
       "      <th>Partial Functional HFs</th>\n",
       "      <th>Non-Functional HFs</th>\n",
       "      <th>Remarks</th>\n",
       "    </tr>\n",
       "  </thead>\n",
       "  <tbody>\n",
       "    <tr>\n",
       "      <th>0</th>\n",
       "      <td>1</td>\n",
       "      <td>South</td>\n",
       "      <td>Kandahar</td>\n",
       "      <td>64.0</td>\n",
       "      <td>54.0</td>\n",
       "      <td>10.0</td>\n",
       "      <td>0</td>\n",
       "      <td>NaN</td>\n",
       "    </tr>\n",
       "    <tr>\n",
       "      <th>1</th>\n",
       "      <td>2</td>\n",
       "      <td>South</td>\n",
       "      <td>Hemlmand</td>\n",
       "      <td>78.0</td>\n",
       "      <td>0.0</td>\n",
       "      <td>77.0</td>\n",
       "      <td>1</td>\n",
       "      <td>NaN</td>\n",
       "    </tr>\n",
       "    <tr>\n",
       "      <th>2</th>\n",
       "      <td>3</td>\n",
       "      <td>South</td>\n",
       "      <td>Zabul</td>\n",
       "      <td>47.0</td>\n",
       "      <td>0.0</td>\n",
       "      <td>47.0</td>\n",
       "      <td>0</td>\n",
       "      <td>NaN</td>\n",
       "    </tr>\n",
       "    <tr>\n",
       "      <th>3</th>\n",
       "      <td>4</td>\n",
       "      <td>South</td>\n",
       "      <td>Urozgan</td>\n",
       "      <td>56.0</td>\n",
       "      <td>0.0</td>\n",
       "      <td>56.0</td>\n",
       "      <td>0</td>\n",
       "      <td>NaN</td>\n",
       "    </tr>\n",
       "    <tr>\n",
       "      <th>4</th>\n",
       "      <td>5</td>\n",
       "      <td>South</td>\n",
       "      <td>Nimroz</td>\n",
       "      <td>18.0</td>\n",
       "      <td>0.0</td>\n",
       "      <td>18.0</td>\n",
       "      <td>0</td>\n",
       "      <td>NaN</td>\n",
       "    </tr>\n",
       "  </tbody>\n",
       "</table>\n",
       "</div>"
      ],
      "text/plain": [
       "  SN Regions  Province  Total # of Sehatmandi HFs  Full Functional HFs  \\\n",
       "0  1   South  Kandahar                       64.0                 54.0   \n",
       "1  2   South  Hemlmand                       78.0                  0.0   \n",
       "2  3   South     Zabul                       47.0                  0.0   \n",
       "3  4   South   Urozgan                       56.0                  0.0   \n",
       "4  5   South    Nimroz                       18.0                  0.0   \n",
       "\n",
       "   Partial Functional HFs Non-Functional HFs Remarks  \n",
       "0                    10.0                  0     NaN  \n",
       "1                    77.0                  1     NaN  \n",
       "2                    47.0                  0     NaN  \n",
       "3                    56.0                  0     NaN  \n",
       "4                    18.0                  0     NaN  "
      ]
     },
     "execution_count": 9,
     "metadata": {},
     "output_type": "execute_result"
    }
   ],
   "source": [
    "data.head()"
   ]
  },
  {
   "cell_type": "code",
   "execution_count": 15,
   "metadata": {},
   "outputs": [
    {
     "data": {
      "text/html": [
       "<div>\n",
       "<style scoped>\n",
       "    .dataframe tbody tr th:only-of-type {\n",
       "        vertical-align: middle;\n",
       "    }\n",
       "\n",
       "    .dataframe tbody tr th {\n",
       "        vertical-align: top;\n",
       "    }\n",
       "\n",
       "    .dataframe thead th {\n",
       "        text-align: right;\n",
       "    }\n",
       "</style>\n",
       "<table border=\"1\" class=\"dataframe\">\n",
       "  <thead>\n",
       "    <tr style=\"text-align: right;\">\n",
       "      <th></th>\n",
       "      <th>SN</th>\n",
       "      <th>Regions</th>\n",
       "      <th>Province</th>\n",
       "      <th>Total # of Sehatmandi HFs</th>\n",
       "      <th>Full Functional HFs</th>\n",
       "      <th>Partial Functional HFs</th>\n",
       "      <th>Non-Functional HFs</th>\n",
       "      <th>Remarks</th>\n",
       "    </tr>\n",
       "  </thead>\n",
       "  <tbody>\n",
       "    <tr>\n",
       "      <th>34</th>\n",
       "      <td>Total</td>\n",
       "      <td>NaN</td>\n",
       "      <td>NaN</td>\n",
       "      <td>2312.0</td>\n",
       "      <td>393.0</td>\n",
       "      <td>1819.0</td>\n",
       "      <td>96</td>\n",
       "      <td>17% fully functional, 79% partial functional a...</td>\n",
       "    </tr>\n",
       "    <tr>\n",
       "      <th>35</th>\n",
       "      <td>NaN</td>\n",
       "      <td>NaN</td>\n",
       "      <td>NaN</td>\n",
       "      <td>NaN</td>\n",
       "      <td>NaN</td>\n",
       "      <td>NaN</td>\n",
       "      <td>NaN</td>\n",
       "      <td>NaN</td>\n",
       "    </tr>\n",
       "    <tr>\n",
       "      <th>36</th>\n",
       "      <td>Full Functional HFs: The HFs which are providi...</td>\n",
       "      <td>NaN</td>\n",
       "      <td>NaN</td>\n",
       "      <td>NaN</td>\n",
       "      <td>NaN</td>\n",
       "      <td>NaN</td>\n",
       "      <td>NaN</td>\n",
       "      <td>NaN</td>\n",
       "    </tr>\n",
       "    <tr>\n",
       "      <th>37</th>\n",
       "      <td>Partial Functional HFs: The HFs’ reported open...</td>\n",
       "      <td>NaN</td>\n",
       "      <td>NaN</td>\n",
       "      <td>NaN</td>\n",
       "      <td>NaN</td>\n",
       "      <td>NaN</td>\n",
       "      <td>NaN</td>\n",
       "      <td>NaN</td>\n",
       "    </tr>\n",
       "    <tr>\n",
       "      <th>38</th>\n",
       "      <td>Non-Functional HFs: Those HFs which don not pr...</td>\n",
       "      <td>NaN</td>\n",
       "      <td>NaN</td>\n",
       "      <td>NaN</td>\n",
       "      <td>NaN</td>\n",
       "      <td>NaN</td>\n",
       "      <td>NaN</td>\n",
       "      <td>NaN</td>\n",
       "    </tr>\n",
       "  </tbody>\n",
       "</table>\n",
       "</div>"
      ],
      "text/plain": [
       "                                                   SN Regions Province  \\\n",
       "34                                             Total      NaN      NaN   \n",
       "35                                                NaN     NaN      NaN   \n",
       "36  Full Functional HFs: The HFs which are providi...     NaN      NaN   \n",
       "37  Partial Functional HFs: The HFs’ reported open...     NaN      NaN   \n",
       "38  Non-Functional HFs: Those HFs which don not pr...     NaN      NaN   \n",
       "\n",
       "    Total # of Sehatmandi HFs  Full Functional HFs  Partial Functional HFs  \\\n",
       "34                     2312.0                393.0                  1819.0   \n",
       "35                        NaN                  NaN                     NaN   \n",
       "36                        NaN                  NaN                     NaN   \n",
       "37                        NaN                  NaN                     NaN   \n",
       "38                        NaN                  NaN                     NaN   \n",
       "\n",
       "   Non-Functional HFs                                            Remarks  \n",
       "34                 96  17% fully functional, 79% partial functional a...  \n",
       "35                NaN                                                NaN  \n",
       "36                NaN                                                NaN  \n",
       "37                NaN                                                NaN  \n",
       "38                NaN                                                NaN  "
      ]
     },
     "execution_count": 15,
     "metadata": {},
     "output_type": "execute_result"
    }
   ],
   "source": [
    "data.tail()"
   ]
  },
  {
   "cell_type": "markdown",
   "metadata": {},
   "source": [
    "### Check the shape and total data instance"
   ]
  },
  {
   "cell_type": "code",
   "execution_count": 10,
   "metadata": {},
   "outputs": [
    {
     "data": {
      "text/plain": [
       "(39, 8)"
      ]
     },
     "execution_count": 10,
     "metadata": {},
     "output_type": "execute_result"
    }
   ],
   "source": [
    "data.shape"
   ]
  },
  {
   "cell_type": "markdown",
   "metadata": {},
   "source": [
    "### Get the columns names"
   ]
  },
  {
   "cell_type": "code",
   "execution_count": 11,
   "metadata": {},
   "outputs": [
    {
     "data": {
      "text/plain": [
       "Index(['SN', 'Regions', 'Province', 'Total # of Sehatmandi HFs',\n",
       "       'Full Functional HFs', 'Partial Functional HFs', 'Non-Functional HFs',\n",
       "       'Remarks'],\n",
       "      dtype='object')"
      ]
     },
     "execution_count": 11,
     "metadata": {},
     "output_type": "execute_result"
    }
   ],
   "source": [
    "data.columns"
   ]
  },
  {
   "cell_type": "code",
   "execution_count": 13,
   "metadata": {},
   "outputs": [
    {
     "name": "stdout",
     "output_type": "stream",
     "text": [
      "<class 'pandas.core.frame.DataFrame'>\n",
      "RangeIndex: 39 entries, 0 to 38\n",
      "Data columns (total 8 columns):\n",
      " #   Column                     Non-Null Count  Dtype  \n",
      "---  ------                     --------------  -----  \n",
      " 0   SN                         38 non-null     object \n",
      " 1   Regions                    34 non-null     object \n",
      " 2   Province                   34 non-null     object \n",
      " 3   Total # of Sehatmandi HFs  35 non-null     float64\n",
      " 4   Full Functional HFs        35 non-null     float64\n",
      " 5   Partial Functional HFs     35 non-null     float64\n",
      " 6   Non-Functional HFs         35 non-null     object \n",
      " 7   Remarks                    1 non-null      object \n",
      "dtypes: float64(3), object(5)\n",
      "memory usage: 2.6+ KB\n"
     ]
    }
   ],
   "source": [
    "data.info()"
   ]
  },
  {
   "cell_type": "code",
   "execution_count": 14,
   "metadata": {},
   "outputs": [
    {
     "data": {
      "text/html": [
       "<div>\n",
       "<style scoped>\n",
       "    .dataframe tbody tr th:only-of-type {\n",
       "        vertical-align: middle;\n",
       "    }\n",
       "\n",
       "    .dataframe tbody tr th {\n",
       "        vertical-align: top;\n",
       "    }\n",
       "\n",
       "    .dataframe thead th {\n",
       "        text-align: right;\n",
       "    }\n",
       "</style>\n",
       "<table border=\"1\" class=\"dataframe\">\n",
       "  <thead>\n",
       "    <tr style=\"text-align: right;\">\n",
       "      <th></th>\n",
       "      <th>Total # of Sehatmandi HFs</th>\n",
       "      <th>Full Functional HFs</th>\n",
       "      <th>Partial Functional HFs</th>\n",
       "    </tr>\n",
       "  </thead>\n",
       "  <tbody>\n",
       "    <tr>\n",
       "      <th>count</th>\n",
       "      <td>35.000000</td>\n",
       "      <td>35.000000</td>\n",
       "      <td>35.000000</td>\n",
       "    </tr>\n",
       "    <tr>\n",
       "      <th>mean</th>\n",
       "      <td>132.114286</td>\n",
       "      <td>22.457143</td>\n",
       "      <td>103.942857</td>\n",
       "    </tr>\n",
       "    <tr>\n",
       "      <th>std</th>\n",
       "      <td>380.192735</td>\n",
       "      <td>69.570253</td>\n",
       "      <td>300.451028</td>\n",
       "    </tr>\n",
       "    <tr>\n",
       "      <th>min</th>\n",
       "      <td>18.000000</td>\n",
       "      <td>0.000000</td>\n",
       "      <td>0.000000</td>\n",
       "    </tr>\n",
       "    <tr>\n",
       "      <th>25%</th>\n",
       "      <td>49.500000</td>\n",
       "      <td>0.000000</td>\n",
       "      <td>31.000000</td>\n",
       "    </tr>\n",
       "    <tr>\n",
       "      <th>50%</th>\n",
       "      <td>64.000000</td>\n",
       "      <td>0.000000</td>\n",
       "      <td>52.000000</td>\n",
       "    </tr>\n",
       "    <tr>\n",
       "      <th>75%</th>\n",
       "      <td>82.000000</td>\n",
       "      <td>9.000000</td>\n",
       "      <td>78.500000</td>\n",
       "    </tr>\n",
       "    <tr>\n",
       "      <th>max</th>\n",
       "      <td>2312.000000</td>\n",
       "      <td>393.000000</td>\n",
       "      <td>1819.000000</td>\n",
       "    </tr>\n",
       "  </tbody>\n",
       "</table>\n",
       "</div>"
      ],
      "text/plain": [
       "       Total # of Sehatmandi HFs  Full Functional HFs  Partial Functional HFs\n",
       "count                  35.000000            35.000000               35.000000\n",
       "mean                  132.114286            22.457143              103.942857\n",
       "std                   380.192735            69.570253              300.451028\n",
       "min                    18.000000             0.000000                0.000000\n",
       "25%                    49.500000             0.000000               31.000000\n",
       "50%                    64.000000             0.000000               52.000000\n",
       "75%                    82.000000             9.000000               78.500000\n",
       "max                  2312.000000           393.000000             1819.000000"
      ]
     },
     "execution_count": 14,
     "metadata": {},
     "output_type": "execute_result"
    }
   ],
   "source": [
    "data.describe()"
   ]
  },
  {
   "cell_type": "markdown",
   "metadata": {},
   "source": [
    "### Filtering the data for data points only"
   ]
  },
  {
   "cell_type": "code",
   "execution_count": 18,
   "metadata": {},
   "outputs": [],
   "source": [
    "data = data.iloc[:34]"
   ]
  },
  {
   "cell_type": "code",
   "execution_count": 21,
   "metadata": {},
   "outputs": [
    {
     "data": {
      "text/plain": [
       "(34, 8)"
      ]
     },
     "execution_count": 21,
     "metadata": {},
     "output_type": "execute_result"
    }
   ],
   "source": [
    "data.shape"
   ]
  },
  {
   "cell_type": "code",
   "execution_count": 19,
   "metadata": {},
   "outputs": [
    {
     "data": {
      "text/html": [
       "<div>\n",
       "<style scoped>\n",
       "    .dataframe tbody tr th:only-of-type {\n",
       "        vertical-align: middle;\n",
       "    }\n",
       "\n",
       "    .dataframe tbody tr th {\n",
       "        vertical-align: top;\n",
       "    }\n",
       "\n",
       "    .dataframe thead th {\n",
       "        text-align: right;\n",
       "    }\n",
       "</style>\n",
       "<table border=\"1\" class=\"dataframe\">\n",
       "  <thead>\n",
       "    <tr style=\"text-align: right;\">\n",
       "      <th></th>\n",
       "      <th>SN</th>\n",
       "      <th>Regions</th>\n",
       "      <th>Province</th>\n",
       "      <th>Total # of Sehatmandi HFs</th>\n",
       "      <th>Full Functional HFs</th>\n",
       "      <th>Partial Functional HFs</th>\n",
       "      <th>Non-Functional HFs</th>\n",
       "      <th>Remarks</th>\n",
       "    </tr>\n",
       "  </thead>\n",
       "  <tbody>\n",
       "    <tr>\n",
       "      <th>29</th>\n",
       "      <td>30</td>\n",
       "      <td>Northern</td>\n",
       "      <td>Balkh</td>\n",
       "      <td>116.0</td>\n",
       "      <td>0.0</td>\n",
       "      <td>112.0</td>\n",
       "      <td>0</td>\n",
       "      <td>NaN</td>\n",
       "    </tr>\n",
       "    <tr>\n",
       "      <th>30</th>\n",
       "      <td>31</td>\n",
       "      <td>Northern</td>\n",
       "      <td>Samangan</td>\n",
       "      <td>47.0</td>\n",
       "      <td>1.0</td>\n",
       "      <td>0.0</td>\n",
       "      <td>46</td>\n",
       "      <td>NaN</td>\n",
       "    </tr>\n",
       "    <tr>\n",
       "      <th>31</th>\n",
       "      <td>32</td>\n",
       "      <td>Northern</td>\n",
       "      <td>Jozjan</td>\n",
       "      <td>49.0</td>\n",
       "      <td>0.0</td>\n",
       "      <td>49.0</td>\n",
       "      <td>0</td>\n",
       "      <td>NaN</td>\n",
       "    </tr>\n",
       "    <tr>\n",
       "      <th>32</th>\n",
       "      <td>33</td>\n",
       "      <td>Northern</td>\n",
       "      <td>Faryab</td>\n",
       "      <td>68.0</td>\n",
       "      <td>0.0</td>\n",
       "      <td>68.0</td>\n",
       "      <td>0</td>\n",
       "      <td>NaN</td>\n",
       "    </tr>\n",
       "    <tr>\n",
       "      <th>33</th>\n",
       "      <td>34</td>\n",
       "      <td>Northern</td>\n",
       "      <td>Saripul</td>\n",
       "      <td>71.0</td>\n",
       "      <td>0.0</td>\n",
       "      <td>71.0</td>\n",
       "      <td>0</td>\n",
       "      <td>NaN</td>\n",
       "    </tr>\n",
       "  </tbody>\n",
       "</table>\n",
       "</div>"
      ],
      "text/plain": [
       "    SN   Regions  Province  Total # of Sehatmandi HFs  Full Functional HFs  \\\n",
       "29  30  Northern     Balkh                      116.0                  0.0   \n",
       "30  31  Northern  Samangan                       47.0                  1.0   \n",
       "31  32  Northern    Jozjan                       49.0                  0.0   \n",
       "32  33  Northern    Faryab                       68.0                  0.0   \n",
       "33  34  Northern   Saripul                       71.0                  0.0   \n",
       "\n",
       "    Partial Functional HFs Non-Functional HFs Remarks  \n",
       "29                   112.0                  0     NaN  \n",
       "30                     0.0                 46     NaN  \n",
       "31                    49.0                 0      NaN  \n",
       "32                    68.0                  0     NaN  \n",
       "33                    71.0                  0     NaN  "
      ]
     },
     "execution_count": 19,
     "metadata": {},
     "output_type": "execute_result"
    }
   ],
   "source": [
    "data.tail()"
   ]
  },
  {
   "cell_type": "code",
   "execution_count": null,
   "metadata": {},
   "outputs": [],
   "source": []
  },
  {
   "cell_type": "code",
   "execution_count": null,
   "metadata": {},
   "outputs": [],
<<<<<<< HEAD
   "source": []
=======
   "source": [
    "# !pip istall pandas_profiling"
   ]
  },
  {
   "cell_type": "code",
   "execution_count": 19,
   "metadata": {},
   "outputs": [
    {
     "name": "stderr",
     "output_type": "stream",
     "text": [
      "C:\\Users\\Z004HA8Y\\AppData\\Local\\Temp\\ipykernel_18460\\4206378887.py:1: DeprecationWarning: `import pandas_profiling` is going to be deprecated by April 1st. Please use `import ydata_profiling` instead.\n",
      "  from pandas_profiling import ProfileReport\n"
     ]
    },
    {
     "data": {
      "application/vnd.jupyter.widget-view+json": {
       "model_id": "91bd3cf7071440a681fe1f227b52ca5e",
       "version_major": 2,
       "version_minor": 0
      },
      "text/plain": [
       "Summarize dataset:   0%|          | 0/5 [00:00<?, ?it/s]"
      ]
     },
     "metadata": {},
     "output_type": "display_data"
    },
    {
     "data": {
      "application/vnd.jupyter.widget-view+json": {
       "model_id": "0e2cac337847424e92b3f7e9ba063e9f",
       "version_major": 2,
       "version_minor": 0
      },
      "text/plain": [
       "Generate report structure:   0%|          | 0/1 [00:00<?, ?it/s]"
      ]
     },
     "metadata": {},
     "output_type": "display_data"
    },
    {
     "data": {
      "application/vnd.jupyter.widget-view+json": {
       "model_id": "e45d5eadda5443deb008771d153ceb65",
       "version_major": 2,
       "version_minor": 0
      },
      "text/plain": [
       "Render HTML:   0%|          | 0/1 [00:00<?, ?it/s]"
      ]
     },
     "metadata": {},
     "output_type": "display_data"
    },
    {
     "data": {
      "application/vnd.jupyter.widget-view+json": {
       "model_id": "7586a940d66d4945af2cc05da531d2af",
       "version_major": 2,
       "version_minor": 0
      },
      "text/plain": [
       "Export report to file:   0%|          | 0/1 [00:00<?, ?it/s]"
      ]
     },
     "metadata": {},
     "output_type": "display_data"
    }
   ],
   "source": [
    "from pandas_profiling import ProfileReport\n",
    "prof = ProfileReport(data)\n",
    "prof.to_file(output_file='output.html')"
   ]
>>>>>>> d6ff2d8 (Remove)
  },
  {
   "cell_type": "code",
   "execution_count": 25,
   "metadata": {},
   "outputs": [
    {
     "name": "stdout",
     "output_type": "stream",
     "text": [
      "[  0   1   2   3   4   5   6   7   8   9  10  11  12  13  14  15  16  17\n",
      "  18  19  20  21  22  23  24  25  26  27  28  29  30  31  32  33  34  35\n",
      "  36  37  38  39  40  41  42  43  44  45  46  47  48  49  50  51  52  53\n",
      "  54  55  56  57  58  59  60  61  62  63  64  65  66  67  68  69  70  71\n",
      "  72  73  74  75  76  77  78  79  80  81  82  83  84  85  86  87  88  89\n",
      "  90  91  92  93  94  95  96  97  98  99 100 101 102 103 104 105 106 107\n",
      " 108 109 110 111 112 113 114 115 116 117 118 119 120 121 122 123 124 125\n",
      " 126 127 128 129 130 131 132 133 134 135 136 137 138 139 140 141 142 143\n",
      " 144 145 146 147 148 149 150 151 152 153 154 155 156 157 158 159 160 161\n",
      " 162 163 164 165 166 167 168 169 170 171 172 173 174 175 176 177 178 179\n",
      " 180 181 182 183 184 185 186 187 188 189 190 191 192 193 194 195 196 197\n",
      " 198 199 200 201 202 203 204 205 206 207 208 209 210 211 212 213 214 215\n",
      " 216 217 218 219 220 221 222 223 224 225 226 227 228 229 230 231 232 233\n",
      " 234 235 236 237 238 239 240 241 242 243 244 245 246 247 248 249 250 251\n",
      " 252 253 254 255 256 257 258 259 260 261 262 263 264 265 266 267 268 269\n",
      " 270 271 272 273 274 275 276 277 278 279 280 281 282 283 284 285 286 287\n",
      " 288 289 290 291 292 293 294 295 296 297 298 299]\n",
      "[200, 200, 200, 200, 200, 200, 200, 200, 200, 200, 200, 200, 200, 200, 200, 200, 200, 200, 200, 200, 200, 200, 200, 200, 200, 200, 200, 200, 200, 200, 200, 200, 200, 200, 200, 200, 200, 196, 192, 188, 184, 180, 176, 172, 168, 164, 160, 156, 152, 148, 144, 140, 136, 132, 128, 124, 120, 116, 112, 108, 104, 100, 96, 92, 88, 84, 80, 76, 72, 68, 64, 60, 56, 52, 48, 44, 40, 36, 32, 28, 24, 20, 16, 12, 8, 4, 0, -4, -8, -12, -16, -20, -24, -28, -32, -36, -40, -44, -48, -52, -56, -60, -64, -68, -72, -76, -80, -84, -88, -92, -96, -100, -104, -108, -112, -116, -120, -124, -128, -132, -136, -140, -144, -148, -152, -156, -160, -164, -168, -172, -176, -180, -184, -188, -192, -196, -200, -204, -208, -212, -216, -220, -224, -228, -232, -236, -240, -244, -248, -252, -256, -260, -264, -268, -272, -276, -280, -284, -288, -292, -296, -300, -304, -308, -312, -316, -320, -324, -328, -332, -336, -340, -344, -348, -352, -356, -360, -364, -368, -372, -376, -380, -384, -388, -392, -396, -400, -404, -408, -412, -416, -420, -424, -428, -432, -436, -440, -444, -448, -452, -456, -460, -464, -468, -472, -476, -480, -484, -488, -492, -496, -500, -504, -508, -512, -516, -520, -524, -528, -532, -536, -540, -544, -548, -552, -556, -560, -564, -568, -572, -576, -580, -584, -588, -592, -596, -600, -604, -608, -612, -616, -620, -624, -628, -632, -636, -640, -644, -648, -652, -656, -660, -664, -668, -672, -676, -680, -684, -688, -692, -696, -700, -704, -708, -712, -716, -720, -724, -728, -732, -736, -740, -744, -748, -752, -756, -760, -764, -768, -772, -776, -780, -784, -788, -792, -796, -800, -804, -808, -812, -816, -820, -824, -828, -832, -836, -840, -844, -848, -852]\n"
     ]
    }
   ],
   "source": [
    "import numpy as np\n",
    "ps = np.arange(300)\n",
    "cs = [200 - max((p-36), 0) * 4 for p in ps ]\n",
    "\n",
    "print(ps)\n",
    "print(cs)"
   ]
  },
  {
   "cell_type": "code",
   "execution_count": 28,
   "metadata": {},
   "outputs": [
    {
     "data": {
      "image/png": "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",
      "text/plain": [
       "<Figure size 640x480 with 1 Axes>"
      ]
     },
     "metadata": {},
     "output_type": "display_data"
    }
   ],
   "source": [
    "import matplotlib.pyplot as plt\n",
    "import pandas as pd\n",
    "from datetime import datetime\n",
    "\n",
    "\n",
    "plt.plot(ps, cs)\n",
    "plt.title('Customers count')\n",
    "plt.xlabel('Price')\n",
    "plt.ylabel('Customers')\n",
    "plt.grid(True)\n",
    "plt.show()"
   ]
  }
 ],
 "metadata": {
  "kernelspec": {
   "display_name": "idsp",
   "language": "python",
   "name": "python3"
  },
  "language_info": {
   "codemirror_mode": {
    "name": "ipython",
    "version": 3
   },
   "file_extension": ".py",
   "mimetype": "text/x-python",
   "name": "python",
   "nbconvert_exporter": "python",
   "pygments_lexer": "ipython3",
   "version": "3.9.0"
  },
  "orig_nbformat": 4
 },
 "nbformat": 4,
 "nbformat_minor": 2
}
