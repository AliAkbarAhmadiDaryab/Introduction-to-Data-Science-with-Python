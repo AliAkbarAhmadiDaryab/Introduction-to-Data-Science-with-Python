{
 "cells": [
  {
   "cell_type": "code",
   "execution_count": 7,
   "metadata": {},
   "outputs": [],
   "source": [
    "import pandas as pd\n",
    "from datetime import datetime"
   ]
  },
  {
   "cell_type": "code",
   "execution_count": 23,
   "metadata": {},
   "outputs": [],
   "source": [
    "data = pd.read_csv(\"data/wfp_food_prices_afg.csv\")"
   ]
  },
  {
   "cell_type": "markdown",
   "metadata": {},
   "source": [
    "## Take a look of the data"
   ]
  },
  {
   "cell_type": "code",
   "execution_count": 24,
   "metadata": {},
   "outputs": [
    {
     "data": {
      "text/html": [
       "<div>\n",
       "<style scoped>\n",
       "    .dataframe tbody tr th:only-of-type {\n",
       "        vertical-align: middle;\n",
       "    }\n",
       "\n",
       "    .dataframe tbody tr th {\n",
       "        vertical-align: top;\n",
       "    }\n",
       "\n",
       "    .dataframe thead th {\n",
       "        text-align: right;\n",
       "    }\n",
       "</style>\n",
       "<table border=\"1\" class=\"dataframe\">\n",
       "  <thead>\n",
       "    <tr style=\"text-align: right;\">\n",
       "      <th></th>\n",
       "      <th>date</th>\n",
       "      <th>admin1</th>\n",
       "      <th>admin2</th>\n",
       "      <th>market</th>\n",
       "      <th>latitude</th>\n",
       "      <th>longitude</th>\n",
       "      <th>category</th>\n",
       "      <th>commodity</th>\n",
       "      <th>unit</th>\n",
       "      <th>priceflag</th>\n",
       "      <th>pricetype</th>\n",
       "      <th>currency</th>\n",
       "      <th>price</th>\n",
       "      <th>usdprice</th>\n",
       "    </tr>\n",
       "  </thead>\n",
       "  <tbody>\n",
       "    <tr>\n",
       "      <th>0</th>\n",
       "      <td>#date</td>\n",
       "      <td>#adm1+name</td>\n",
       "      <td>#adm2+name</td>\n",
       "      <td>#loc+market+name</td>\n",
       "      <td>#geo+lat</td>\n",
       "      <td>#geo+lon</td>\n",
       "      <td>#item+type</td>\n",
       "      <td>#item+name</td>\n",
       "      <td>#item+unit</td>\n",
       "      <td>#item+price+flag</td>\n",
       "      <td>#item+price+type</td>\n",
       "      <td>#currency</td>\n",
       "      <td>#value</td>\n",
       "      <td>#value+usd</td>\n",
       "    </tr>\n",
       "    <tr>\n",
       "      <th>1</th>\n",
       "      <td>2000-01-15</td>\n",
       "      <td>Badakhshan</td>\n",
       "      <td>Faiz Abad</td>\n",
       "      <td>Fayzabad</td>\n",
       "      <td>37.116638</td>\n",
       "      <td>70.580022</td>\n",
       "      <td>non-food</td>\n",
       "      <td>Wage (non-qualified labour, non-agricultural)</td>\n",
       "      <td>Day</td>\n",
       "      <td>actual</td>\n",
       "      <td>Retail</td>\n",
       "      <td>AFN</td>\n",
       "      <td>150000.0</td>\n",
       "      <td>3205.7378</td>\n",
       "    </tr>\n",
       "    <tr>\n",
       "      <th>2</th>\n",
       "      <td>2000-01-15</td>\n",
       "      <td>Balkh</td>\n",
       "      <td>Mazar-e-Sharif</td>\n",
       "      <td>Mazar</td>\n",
       "      <td>36.725116</td>\n",
       "      <td>67.109571</td>\n",
       "      <td>non-food</td>\n",
       "      <td>Wage (non-qualified labour, non-agricultural)</td>\n",
       "      <td>Day</td>\n",
       "      <td>actual</td>\n",
       "      <td>Retail</td>\n",
       "      <td>AFN</td>\n",
       "      <td>100000.0</td>\n",
       "      <td>2137.1586</td>\n",
       "    </tr>\n",
       "    <tr>\n",
       "      <th>3</th>\n",
       "      <td>2000-01-15</td>\n",
       "      <td>Hirat</td>\n",
       "      <td>Hirat</td>\n",
       "      <td>Hirat</td>\n",
       "      <td>34.346944</td>\n",
       "      <td>62.198333</td>\n",
       "      <td>cereals and tubers</td>\n",
       "      <td>Bread</td>\n",
       "      <td>KG</td>\n",
       "      <td>actual</td>\n",
       "      <td>Retail</td>\n",
       "      <td>AFN</td>\n",
       "      <td>15.63</td>\n",
       "      <td>0.334</td>\n",
       "    </tr>\n",
       "    <tr>\n",
       "      <th>4</th>\n",
       "      <td>2000-01-15</td>\n",
       "      <td>Hirat</td>\n",
       "      <td>Hirat</td>\n",
       "      <td>Hirat</td>\n",
       "      <td>34.346944</td>\n",
       "      <td>62.198333</td>\n",
       "      <td>cereals and tubers</td>\n",
       "      <td>Wheat</td>\n",
       "      <td>KG</td>\n",
       "      <td>actual</td>\n",
       "      <td>Retail</td>\n",
       "      <td>AFN</td>\n",
       "      <td>9.13</td>\n",
       "      <td>0.1951</td>\n",
       "    </tr>\n",
       "  </tbody>\n",
       "</table>\n",
       "</div>"
      ],
      "text/plain": [
       "         date      admin1          admin2            market   latitude  \\\n",
       "0       #date  #adm1+name      #adm2+name  #loc+market+name   #geo+lat   \n",
       "1  2000-01-15  Badakhshan       Faiz Abad          Fayzabad  37.116638   \n",
       "2  2000-01-15       Balkh  Mazar-e-Sharif             Mazar  36.725116   \n",
       "3  2000-01-15       Hirat           Hirat             Hirat  34.346944   \n",
       "4  2000-01-15       Hirat           Hirat             Hirat  34.346944   \n",
       "\n",
       "   longitude            category  \\\n",
       "0   #geo+lon          #item+type   \n",
       "1  70.580022            non-food   \n",
       "2  67.109571            non-food   \n",
       "3  62.198333  cereals and tubers   \n",
       "4  62.198333  cereals and tubers   \n",
       "\n",
       "                                       commodity        unit  \\\n",
       "0                                     #item+name  #item+unit   \n",
       "1  Wage (non-qualified labour, non-agricultural)         Day   \n",
       "2  Wage (non-qualified labour, non-agricultural)         Day   \n",
       "3                                          Bread          KG   \n",
       "4                                          Wheat          KG   \n",
       "\n",
       "          priceflag         pricetype   currency     price    usdprice  \n",
       "0  #item+price+flag  #item+price+type  #currency    #value  #value+usd  \n",
       "1            actual            Retail        AFN  150000.0   3205.7378  \n",
       "2            actual            Retail        AFN  100000.0   2137.1586  \n",
       "3            actual            Retail        AFN     15.63       0.334  \n",
       "4            actual            Retail        AFN      9.13      0.1951  "
      ]
     },
     "execution_count": 24,
     "metadata": {},
     "output_type": "execute_result"
    }
   ],
   "source": [
    "data.head() "
   ]
  },
  {
   "cell_type": "code",
   "execution_count": 25,
   "metadata": {},
   "outputs": [
    {
     "name": "stdout",
     "output_type": "stream",
     "text": [
      "<class 'pandas.core.frame.DataFrame'>\n",
      "RangeIndex: 41085 entries, 0 to 41084\n",
      "Data columns (total 14 columns):\n",
      " #   Column     Non-Null Count  Dtype \n",
      "---  ------     --------------  ----- \n",
      " 0   date       41085 non-null  object\n",
      " 1   admin1     41085 non-null  object\n",
      " 2   admin2     41085 non-null  object\n",
      " 3   market     41085 non-null  object\n",
      " 4   latitude   41085 non-null  object\n",
      " 5   longitude  41085 non-null  object\n",
      " 6   category   41085 non-null  object\n",
      " 7   commodity  41085 non-null  object\n",
      " 8   unit       41085 non-null  object\n",
      " 9   priceflag  41085 non-null  object\n",
      " 10  pricetype  41085 non-null  object\n",
      " 11  currency   41085 non-null  object\n",
      " 12  price      41085 non-null  object\n",
      " 13  usdprice   41085 non-null  object\n",
      "dtypes: object(14)\n",
      "memory usage: 4.4+ MB\n"
     ]
    }
   ],
   "source": [
    "data.info()"
   ]
  },
  {
   "cell_type": "markdown",
   "metadata": {},
   "source": [
    "### EDA Exploratory Data Analysis Using Pandas Profiling"
   ]
  },
  {
   "cell_type": "code",
   "execution_count": 4,
   "metadata": {},
   "outputs": [
    {
     "name": "stderr",
     "output_type": "stream",
     "text": [
      "C:\\Users\\Z004HA8Y\\AppData\\Local\\Temp\\ipykernel_15844\\2093083487.py:1: DeprecationWarning: `import pandas_profiling` is going to be deprecated by April 1st. Please use `import ydata_profiling` instead.\n",
      "  from pandas_profiling import ProfileReport\n"
     ]
    },
    {
     "data": {
      "application/vnd.jupyter.widget-view+json": {
       "model_id": "dd063119911b4ff78fb7de9f898d4d70",
       "version_major": 2,
       "version_minor": 0
      },
      "text/plain": [
       "Summarize dataset:   0%|          | 0/5 [00:00<?, ?it/s]"
      ]
     },
     "metadata": {},
     "output_type": "display_data"
    },
    {
     "data": {
      "application/vnd.jupyter.widget-view+json": {
       "model_id": "0b3b3414ce0f43df96588f8b9dc5fedf",
       "version_major": 2,
       "version_minor": 0
      },
      "text/plain": [
       "Generate report structure:   0%|          | 0/1 [00:00<?, ?it/s]"
      ]
     },
     "metadata": {},
     "output_type": "display_data"
    },
    {
     "data": {
      "application/vnd.jupyter.widget-view+json": {
       "model_id": "f549dcf586084c02a04fe24d2442b60c",
       "version_major": 2,
       "version_minor": 0
      },
      "text/plain": [
       "Render HTML:   0%|          | 0/1 [00:00<?, ?it/s]"
      ]
     },
     "metadata": {},
     "output_type": "display_data"
    },
    {
     "data": {
      "application/vnd.jupyter.widget-view+json": {
       "model_id": "5fb03cfe4b3a4f13a3835788b1669f3d",
       "version_major": 2,
       "version_minor": 0
      },
      "text/plain": [
       "Export report to file:   0%|          | 0/1 [00:00<?, ?it/s]"
      ]
     },
     "metadata": {},
     "output_type": "display_data"
    }
   ],
   "source": [
    "from pandas_profiling import ProfileReport\n",
    "prof = ProfileReport(data)\n",
    "prof.to_file(output_file='data/output.html')"
   ]
  },
  {
   "cell_type": "markdown",
   "metadata": {},
   "source": [
    "### Preprocessing"
   ]
  },
  {
   "cell_type": "code",
   "execution_count": 26,
   "metadata": {},
   "outputs": [
    {
     "name": "stdout",
     "output_type": "stream",
     "text": [
      "(41085, 14)\n",
      "(41084, 14)\n"
     ]
    }
   ],
   "source": [
    "print(data.shape)\n",
    "data = data.iloc[1:]\n",
    "print(data.shape)"
   ]
  },
  {
   "cell_type": "code",
   "execution_count": 30,
   "metadata": {},
   "outputs": [],
   "source": [
    "data['price'] = data.price.map(float)"
   ]
  },
  {
   "cell_type": "code",
   "execution_count": 16,
   "metadata": {},
   "outputs": [
    {
     "name": "stderr",
     "output_type": "stream",
     "text": [
      "C:\\Users\\Z004HA8Y\\AppData\\Local\\Temp\\ipykernel_15844\\3396887509.py:1: SettingWithCopyWarning: \n",
      "A value is trying to be set on a copy of a slice from a DataFrame.\n",
      "Try using .loc[row_indexer,col_indexer] = value instead\n",
      "\n",
      "See the caveats in the documentation: https://pandas.pydata.org/pandas-docs/stable/user_guide/indexing.html#returning-a-view-versus-a-copy\n",
      "  data['date'] = data['date'].astype(str)\n"
     ]
    }
   ],
   "source": [
    "data['date'] = data['date'].astype(str)"
   ]
  },
  {
   "cell_type": "code",
   "execution_count": 27,
   "metadata": {},
   "outputs": [],
   "source": [
    "date_format = '%Y-%m-%d'\n",
    "\n",
    "data['date_obj'] = pd.to_datetime(data['date'], format=date_format, errors='coerce')"
   ]
  },
  {
   "cell_type": "code",
   "execution_count": 28,
   "metadata": {},
   "outputs": [
    {
     "data": {
      "text/plain": [
       "1       2000-01-15\n",
       "2       2000-01-15\n",
       "3       2000-01-15\n",
       "4       2000-01-15\n",
       "5       2000-01-15\n",
       "           ...    \n",
       "41080   2024-02-15\n",
       "41081   2024-02-15\n",
       "41082   2024-02-15\n",
       "41083   2024-02-15\n",
       "41084   2024-02-15\n",
       "Name: date_obj, Length: 41084, dtype: datetime64[ns]"
      ]
     },
     "execution_count": 28,
     "metadata": {},
     "output_type": "execute_result"
    }
   ],
   "source": [
    "data['date_obj']"
   ]
  },
  {
   "cell_type": "code",
   "execution_count": 29,
   "metadata": {},
   "outputs": [
    {
     "data": {
      "text/plain": [
       "array([2000, 2001, 2002, 2003, 2004, 2005, 2006, 2007, 2008, 2009, 2010,\n",
       "       2011, 2012, 2013, 2014, 2015, 2016, 2017, 2018, 2019, 2020, 2021,\n",
       "       2022, 2023, 2024])"
      ]
     },
     "execution_count": 29,
     "metadata": {},
     "output_type": "execute_result"
    }
   ],
   "source": [
    "data[\"date_obj\"].dt.year.unique()"
   ]
  },
  {
   "cell_type": "markdown",
   "metadata": {},
   "source": [
    "### Get the distribution of the Wheat during the year 2000"
   ]
  },
  {
   "cell_type": "code",
   "execution_count": 31,
   "metadata": {},
   "outputs": [
    {
     "name": "stdout",
     "output_type": "stream",
     "text": [
      "(41084, 15)\n",
      "(27823, 15)\n"
     ]
    }
   ],
   "source": [
    "# Filter data for non-forecast\n",
    "print(data.shape)\n",
    "data = data[data['price'] != 0.0]\n",
    "print(data.shape)\n"
   ]
  },
  {
   "cell_type": "code",
   "execution_count": 32,
   "metadata": {},
   "outputs": [
    {
     "name": "stdout",
     "output_type": "stream",
     "text": [
      "(3186, 15)\n"
     ]
    }
   ],
   "source": [
    "wheat = data[data['commodity'] == 'Wheat']\n",
    "print(wheat.shape)"
   ]
  },
  {
   "cell_type": "code",
   "execution_count": 36,
   "metadata": {},
   "outputs": [
    {
     "name": "stderr",
     "output_type": "stream",
     "text": [
      "C:\\Users\\Z004HA8Y\\AppData\\Local\\Temp\\ipykernel_15844\\1716266647.py:1: SettingWithCopyWarning: \n",
      "A value is trying to be set on a copy of a slice from a DataFrame.\n",
      "Try using .loc[row_indexer,col_indexer] = value instead\n",
      "\n",
      "See the caveats in the documentation: https://pandas.pydata.org/pandas-docs/stable/user_guide/indexing.html#returning-a-view-versus-a-copy\n",
      "  wheat['year'] = wheat.date_obj.dt.year\n"
     ]
    }
   ],
   "source": [
    "wheat['year'] = wheat.date_obj.dt.year"
   ]
  },
  {
   "cell_type": "code",
   "execution_count": 37,
   "metadata": {},
   "outputs": [
    {
     "data": {
      "text/plain": [
       "array([2000, 2001, 2002, 2003, 2004, 2005, 2006, 2007, 2008, 2009, 2010,\n",
       "       2011, 2012, 2013, 2014, 2015, 2016, 2017, 2018, 2019, 2020, 2021,\n",
       "       2022, 2023])"
      ]
     },
     "execution_count": 37,
     "metadata": {},
     "output_type": "execute_result"
    }
   ],
   "source": [
    "wheat.year.unique()"
   ]
  },
  {
   "cell_type": "code",
   "execution_count": 35,
   "metadata": {},
   "outputs": [
    {
     "data": {
      "text/plain": [
       "<DatetimeArray>\n",
       "['2000-01-15 00:00:00', '2000-02-15 00:00:00', '2000-03-15 00:00:00',\n",
       " '2000-04-15 00:00:00', '2000-05-15 00:00:00', '2000-06-15 00:00:00',\n",
       " '2000-07-15 00:00:00', '2000-08-15 00:00:00', '2000-09-15 00:00:00',\n",
       " '2000-10-15 00:00:00',\n",
       " ...\n",
       " '2022-12-15 00:00:00', '2023-01-15 00:00:00', '2023-02-15 00:00:00',\n",
       " '2023-03-15 00:00:00', '2023-04-15 00:00:00', '2023-05-15 00:00:00',\n",
       " '2023-06-15 00:00:00', '2023-07-15 00:00:00', '2023-08-15 00:00:00',\n",
       " '2023-09-15 00:00:00']\n",
       "Length: 285, dtype: datetime64[ns]"
      ]
     },
     "execution_count": 35,
     "metadata": {},
     "output_type": "execute_result"
    }
   ],
   "source": [
    "wheat.date_obj.unique()"
   ]
  },
  {
   "cell_type": "code",
   "execution_count": 43,
   "metadata": {},
   "outputs": [
    {
     "data": {
      "text/html": [
       "<div>\n",
       "<style scoped>\n",
       "    .dataframe tbody tr th:only-of-type {\n",
       "        vertical-align: middle;\n",
       "    }\n",
       "\n",
       "    .dataframe tbody tr th {\n",
       "        vertical-align: top;\n",
       "    }\n",
       "\n",
       "    .dataframe thead th {\n",
       "        text-align: right;\n",
       "    }\n",
       "</style>\n",
       "<table border=\"1\" class=\"dataframe\">\n",
       "  <thead>\n",
       "    <tr style=\"text-align: right;\">\n",
       "      <th></th>\n",
       "      <th>date</th>\n",
       "      <th>admin1</th>\n",
       "      <th>admin2</th>\n",
       "      <th>market</th>\n",
       "      <th>latitude</th>\n",
       "      <th>longitude</th>\n",
       "      <th>category</th>\n",
       "      <th>commodity</th>\n",
       "      <th>unit</th>\n",
       "      <th>priceflag</th>\n",
       "      <th>pricetype</th>\n",
       "      <th>currency</th>\n",
       "      <th>price</th>\n",
       "      <th>usdprice</th>\n",
       "      <th>date_obj</th>\n",
       "      <th>year</th>\n",
       "    </tr>\n",
       "  </thead>\n",
       "  <tbody>\n",
       "    <tr>\n",
       "      <th>4</th>\n",
       "      <td>2000-01-15</td>\n",
       "      <td>Hirat</td>\n",
       "      <td>Hirat</td>\n",
       "      <td>Hirat</td>\n",
       "      <td>34.346944</td>\n",
       "      <td>62.198333</td>\n",
       "      <td>cereals and tubers</td>\n",
       "      <td>Wheat</td>\n",
       "      <td>KG</td>\n",
       "      <td>actual</td>\n",
       "      <td>Retail</td>\n",
       "      <td>AFN</td>\n",
       "      <td>9.13</td>\n",
       "      <td>0.1951</td>\n",
       "      <td>2000-01-15</td>\n",
       "      <td>2000</td>\n",
       "    </tr>\n",
       "    <tr>\n",
       "      <th>8</th>\n",
       "      <td>2000-01-15</td>\n",
       "      <td>Kabul</td>\n",
       "      <td>Kabul</td>\n",
       "      <td>Kabul</td>\n",
       "      <td>34.516667</td>\n",
       "      <td>69.183333</td>\n",
       "      <td>cereals and tubers</td>\n",
       "      <td>Wheat</td>\n",
       "      <td>KG</td>\n",
       "      <td>actual</td>\n",
       "      <td>Retail</td>\n",
       "      <td>AFN</td>\n",
       "      <td>13.75</td>\n",
       "      <td>0.2939</td>\n",
       "      <td>2000-01-15</td>\n",
       "      <td>2000</td>\n",
       "    </tr>\n",
       "    <tr>\n",
       "      <th>12</th>\n",
       "      <td>2000-01-15</td>\n",
       "      <td>Kandahar</td>\n",
       "      <td>Kandahar</td>\n",
       "      <td>Kandahar</td>\n",
       "      <td>31.6125</td>\n",
       "      <td>65.709444</td>\n",
       "      <td>cereals and tubers</td>\n",
       "      <td>Wheat</td>\n",
       "      <td>KG</td>\n",
       "      <td>actual</td>\n",
       "      <td>Retail</td>\n",
       "      <td>AFN</td>\n",
       "      <td>12.88</td>\n",
       "      <td>0.2753</td>\n",
       "      <td>2000-01-15</td>\n",
       "      <td>2000</td>\n",
       "    </tr>\n",
       "    <tr>\n",
       "      <th>16</th>\n",
       "      <td>2000-01-15</td>\n",
       "      <td>Nangarhar</td>\n",
       "      <td>Jalalabad</td>\n",
       "      <td>Jalalabad</td>\n",
       "      <td>34.426111</td>\n",
       "      <td>70.451389</td>\n",
       "      <td>cereals and tubers</td>\n",
       "      <td>Wheat</td>\n",
       "      <td>KG</td>\n",
       "      <td>actual</td>\n",
       "      <td>Retail</td>\n",
       "      <td>AFN</td>\n",
       "      <td>13.16</td>\n",
       "      <td>0.2813</td>\n",
       "      <td>2000-01-15</td>\n",
       "      <td>2000</td>\n",
       "    </tr>\n",
       "    <tr>\n",
       "      <th>22</th>\n",
       "      <td>2000-02-15</td>\n",
       "      <td>Hirat</td>\n",
       "      <td>Hirat</td>\n",
       "      <td>Hirat</td>\n",
       "      <td>34.346944</td>\n",
       "      <td>62.198333</td>\n",
       "      <td>cereals and tubers</td>\n",
       "      <td>Wheat</td>\n",
       "      <td>KG</td>\n",
       "      <td>actual</td>\n",
       "      <td>Retail</td>\n",
       "      <td>AFN</td>\n",
       "      <td>9.13</td>\n",
       "      <td>0.1936</td>\n",
       "      <td>2000-02-15</td>\n",
       "      <td>2000</td>\n",
       "    </tr>\n",
       "  </tbody>\n",
       "</table>\n",
       "</div>"
      ],
      "text/plain": [
       "          date     admin1     admin2     market   latitude  longitude  \\\n",
       "4   2000-01-15      Hirat      Hirat      Hirat  34.346944  62.198333   \n",
       "8   2000-01-15      Kabul      Kabul      Kabul  34.516667  69.183333   \n",
       "12  2000-01-15   Kandahar   Kandahar   Kandahar    31.6125  65.709444   \n",
       "16  2000-01-15  Nangarhar  Jalalabad  Jalalabad  34.426111  70.451389   \n",
       "22  2000-02-15      Hirat      Hirat      Hirat  34.346944  62.198333   \n",
       "\n",
       "              category commodity unit priceflag pricetype currency  price  \\\n",
       "4   cereals and tubers     Wheat   KG    actual    Retail      AFN   9.13   \n",
       "8   cereals and tubers     Wheat   KG    actual    Retail      AFN  13.75   \n",
       "12  cereals and tubers     Wheat   KG    actual    Retail      AFN  12.88   \n",
       "16  cereals and tubers     Wheat   KG    actual    Retail      AFN  13.16   \n",
       "22  cereals and tubers     Wheat   KG    actual    Retail      AFN   9.13   \n",
       "\n",
       "   usdprice   date_obj  year  \n",
       "4    0.1951 2000-01-15  2000  \n",
       "8    0.2939 2000-01-15  2000  \n",
       "12   0.2753 2000-01-15  2000  \n",
       "16   0.2813 2000-01-15  2000  \n",
       "22   0.1936 2000-02-15  2000  "
      ]
     },
     "execution_count": 43,
     "metadata": {},
     "output_type": "execute_result"
    }
   ],
   "source": [
    "wheat.head()"
   ]
  },
  {
   "cell_type": "code",
   "execution_count": 44,
   "metadata": {},
   "outputs": [],
   "source": [
    "wheat_2000 = wheat[wheat['year'] == 2000]"
   ]
  },
  {
   "cell_type": "code",
   "execution_count": 45,
   "metadata": {},
   "outputs": [
    {
     "data": {
      "text/plain": [
       "(48, 16)"
      ]
     },
     "execution_count": 45,
     "metadata": {},
     "output_type": "execute_result"
    }
   ],
   "source": [
    "wheat_2000.shape"
   ]
  },
  {
   "cell_type": "markdown",
   "metadata": {},
   "source": [
    "### How do you think about the Wheat price in Kandahar and Kabul in year 2022"
   ]
  },
  {
   "cell_type": "markdown",
   "metadata": {},
   "source": []
  },
  {
   "cell_type": "markdown",
   "metadata": {},
   "source": [
    "### Do you see any different between Wheat price and Wheat Flour price in Kabul, Nangarhar, Balkh"
   ]
  },
  {
   "cell_type": "markdown",
   "metadata": {},
   "source": []
  }
 ],
 "metadata": {
  "kernelspec": {
   "display_name": "idsp",
   "language": "python",
   "name": "python3"
  },
  "language_info": {
   "codemirror_mode": {
    "name": "ipython",
    "version": 3
   },
   "file_extension": ".py",
   "mimetype": "text/x-python",
   "name": "python",
   "nbconvert_exporter": "python",
   "pygments_lexer": "ipython3",
   "version": "3.9.0"
  },
  "orig_nbformat": 4
 },
 "nbformat": 4,
 "nbformat_minor": 2
}
