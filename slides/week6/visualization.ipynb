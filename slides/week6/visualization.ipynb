{
 "cells": [
  {
   "cell_type": "markdown",
   "metadata": {},
   "source": [
    "#### Histogram"
   ]
  },
  {
   "cell_type": "markdown",
   "metadata": {},
   "source": [
    "#### Bar Chart of Product Sales"
   ]
  },
  {
   "cell_type": "markdown",
   "metadata": {},
   "source": [
    "#### Line Plot of Stock Prices"
   ]
  },
  {
   "cell_type": "markdown",
   "metadata": {},
   "source": [
    "#### Pie Chart of Survey Responses"
   ]
  },
  {
   "cell_type": "markdown",
   "metadata": {},
   "source": [
    "Histogram:\n",
    "\n",
    "Purpose: Visualize the distribution of a single variable.\n",
    "Example: Histogram of exam scores to see the distribution of grades in a class.\n",
    "Bar Chart:\n",
    "\n",
    "Purpose: Compare discrete categories or groups.\n",
    "Example: Bar chart showing sales of different products in a store.\n",
    "Line Plot:\n",
    "\n",
    "Purpose: Show trends or changes in data over time or continuous values.\n",
    "Example: Line plot of temperature fluctuations throughout a week.\n",
    "Scatter Plot:\n",
    "\n",
    "Purpose: Display relationships and correlations between two variables.\n",
    "Example: Scatter plot of the relationship between hours studied and exam scores.\n",
    "Box Plot (Box-and-Whisker Plot):\n",
    "\n",
    "Purpose: Visualize the spread and central tendency of a dataset.\n",
    "Example: Box plot of income distribution in a city.\n",
    "Pie Chart:\n",
    "\n",
    "Purpose: Show parts of a whole and their proportions.\n",
    "Example: Pie chart representing the composition of a budget.\n",
    "Heatmap:\n",
    "\n",
    "Purpose: Visualize a matrix of data using colors to represent values.\n",
    "Example: Heatmap showing the correlation matrix of stock prices.\n",
    "Area Chart:\n",
    "\n",
    "Purpose: Display the cumulative data over time, often used for time series data.\n",
    "Example: Area chart showing the cumulative sales revenue over a year.\n",
    "Violin Plot:\n",
    "\n",
    "Purpose: Combine a box plot and kernel density estimation to show data distribution.\n",
    "Example: Violin plot of income distribution by education level.\n",
    "Radar Chart (Spider Chart):\n",
    "\n",
    "Purpose: Compare multiple variables on a common scale.\n",
    "Example: Radar chart comparing the skills of job applicants in different areas.\n",
    "Histogram 2D (Heatmap):\n",
    "\n",
    "Purpose: Visualize the joint distribution of two variables.\n",
    "Example: 2D histogram showing the relationship between temperature and humidity.\n",
    "Sankey Diagram:\n",
    "\n",
    "Purpose: Visualize the flow of resources or data between multiple entities.\n",
    "Example: Sankey diagram illustrating energy consumption in a building.\n",
    "Network Graph:\n",
    "\n",
    "Purpose: Display relationships between entities as nodes and edges.\n",
    "Example: Network graph showing social connections on a social media platform.\n",
    "Choropleth Map:\n",
    "\n",
    "Purpose: Display data variations across geographical regions.\n",
    "Example: Choropleth map showing population density by state.\n",
    "Word Cloud:\n",
    "\n",
    "Purpose: Highlight frequently occurring words in text data.\n",
    "Example: Word cloud of customer reviews to identify common keywords."
   ]
  },
  {
   "cell_type": "code",
   "execution_count": null,
   "metadata": {},
   "outputs": [],
   "source": []
  }
 ],
 "metadata": {
  "language_info": {
   "name": "python"
  },
  "orig_nbformat": 4
 },
 "nbformat": 4,
 "nbformat_minor": 2
}
